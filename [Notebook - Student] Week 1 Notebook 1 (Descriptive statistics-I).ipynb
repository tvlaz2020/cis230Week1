{
  "cells": [
    {
      "cell_type": "markdown",
      "id": "2d3f38be",
      "metadata": {
        "id": "2d3f38be"
      },
      "source": [
        "# AI Project Cycle\n",
        "![AI%20Project%20Cycle.png](attachment:AI%20Project%20Cycle.png)"
      ]
    },
    {
      "cell_type": "markdown",
      "id": "945aa5e3",
      "metadata": {
        "id": "945aa5e3"
      },
      "source": [
        "# Average monthly temperature in Los Angeles: 2021"
      ]
    },
    {
      "cell_type": "markdown",
      "id": "2debd16d",
      "metadata": {
        "id": "2debd16d"
      },
      "source": [
        "## 1. Problem Scoping (AI Project Cycle - Step 1)\n",
        "In this notebook, we are going to apply the theory of descriptive statistics to discover information about a dataset.\n",
        "\n",
        "We are trying to build an AI model to assist with weather prediction in Los Angeles. But before we start collecting data that we will train our AI model on, let’s just start by get a better understanding of the weather in Los Angeles."
      ]
    },
    {
      "cell_type": "markdown",
      "id": "5f04020e",
      "metadata": {
        "id": "5f04020e"
      },
      "source": [
        "## 2. Data Acquisition (AI Project Cycle - Step 2)\n",
        "Dataset Source: https://weatherspark.com/y/1705/Average-Weather-in-Los-Angeles-California-United-States-Year-Round\n",
        "\n",
        "This dataset is about the climate and average weather in Los Angeles, California, United States. We are going to deal with the average temperature of every month."
      ]
    },
    {
      "cell_type": "markdown",
      "id": "150c6f5a",
      "metadata": {
        "id": "150c6f5a"
      },
      "source": [
        "**Importing the required libraries**"
      ]
    },
    {
      "cell_type": "code",
      "execution_count": 1,
      "id": "3052de49",
      "metadata": {
        "id": "3052de49"
      },
      "outputs": [],
      "source": [
        "import numpy as np\n",
        "from scipy import stats"
      ]
    },
    {
      "cell_type": "markdown",
      "id": "254e91b4",
      "metadata": {
        "id": "254e91b4"
      },
      "source": [
        "### 2.1. Creating a numpy array with the monthly mean temperatures in LA.\n",
        "We will manually copy the recorded temperature highs and lows from the above link and save it into a numpy array in the below step.\n",
        "\n",
        "<b>Note:</b> All temperatures are in Celsius."
      ]
    },
    {
      "cell_type": "code",
      "execution_count": 2,
      "id": "06fcf02a",
      "metadata": {
        "id": "06fcf02a"
      },
      "outputs": [],
      "source": [
        "highs = np.array([68, 68, 70, 72, 74, 78, 83, 84, 83, 78, 72, 67])\n",
        "lows = np.array([49, 50, 52, 55, 59, 62, 65, 66, 64, 60, 53, 49])"
      ]
    },
    {
      "cell_type": "code",
      "execution_count": 3,
      "id": "92b5c0b3",
      "metadata": {
        "id": "92b5c0b3",
        "outputId": "aababf9d-443c-4692-c1a9-5cb50f8075c7",
        "colab": {
          "base_uri": "https://localhost:8080/"
        }
      },
      "outputs": [
        {
          "output_type": "stream",
          "name": "stdout",
          "text": [
            "[68 68 70 72 74 78 83 84 83 78 72 67]\n",
            "[49 50 52 55 59 62 65 66 64 60 53 49]\n"
          ]
        }
      ],
      "source": [
        "print(highs)\n",
        "print(lows)"
      ]
    },
    {
      "cell_type": "markdown",
      "id": "b2447b03",
      "metadata": {
        "id": "b2447b03"
      },
      "source": [
        "## 3. Data Exploration (AI Project Cycle - Step 3)\n",
        "\n",
        "### 3.1.1. Manually calculate the mean temperature\n",
        "Manually calculate the mean high temperature of the entire year using the equation.\n",
        "\n",
        "${mean} = \\sum Monthly Temperature \\div Number Of Months$"
      ]
    },
    {
      "cell_type": "code",
      "execution_count": 12,
      "id": "d8943493",
      "metadata": {
        "id": "d8943493",
        "outputId": "8ced016f-2fad-415f-f3e3-8e6a7e736245",
        "colab": {
          "base_uri": "https://localhost:8080/"
        }
      },
      "outputs": [
        {
          "output_type": "stream",
          "name": "stdout",
          "text": [
            "74.75\n"
          ]
        }
      ],
      "source": [
        "#student answer\n",
        "sum = 0\n",
        "for num in highs:\n",
        "  sum += num\n",
        "\n",
        "mean = sum / len(highs)\n",
        "print(mean)"
      ]
    },
    {
      "cell_type": "markdown",
      "id": "a6d1ee78",
      "metadata": {
        "id": "a6d1ee78"
      },
      "source": [
        "### 3.1.2. Calculate the mean temperature\n",
        "Calculate the mean high temperature of the entire year using the numpy built-in function [mean()](https://numpy.org/doc/stable/reference/generated/numpy.mean.html)"
      ]
    },
    {
      "cell_type": "code",
      "execution_count": 90,
      "id": "fac9126f",
      "metadata": {
        "id": "fac9126f",
        "outputId": "0446be19-2387-475c-cd7f-c9fd1434d8ca",
        "colab": {
          "base_uri": "https://localhost:8080/"
        }
      },
      "outputs": [
        {
          "output_type": "stream",
          "name": "stdout",
          "text": [
            "74.75\n"
          ]
        }
      ],
      "source": [
        "#student answer\n",
        "\n",
        "npmean = np.mean(highs)\n",
        "print(npmean)\n"
      ]
    },
    {
      "cell_type": "markdown",
      "id": "378ed92d",
      "metadata": {
        "id": "378ed92d"
      },
      "source": [
        "### 3.2.1. Manually identify the median temperature\n",
        "Manually identify the median high temperature of entire year."
      ]
    },
    {
      "cell_type": "code",
      "execution_count": 17,
      "id": "58d70ff1",
      "metadata": {
        "id": "58d70ff1",
        "outputId": "6291fcdb-3738-4ab8-9ceb-26cd6459a7bf",
        "colab": {
          "base_uri": "https://localhost:8080/"
        }
      },
      "outputs": [
        {
          "output_type": "execute_result",
          "data": {
            "text/plain": [
              "array([67, 68, 68, 70, 72, 72, 74, 78, 78, 83, 83, 84])"
            ]
          },
          "metadata": {},
          "execution_count": 17
        }
      ],
      "source": [
        "#The median is difficult to identify with the list out of order.\n",
        "#We can use np.sort(x) to sort our list for us from lowest to highest.\n",
        "np.sort(highs)"
      ]
    },
    {
      "cell_type": "code",
      "execution_count": 33,
      "id": "60ca4619",
      "metadata": {
        "id": "60ca4619",
        "outputId": "d6199ab4-cfdd-4f41-a015-e6cf8a0433a1",
        "colab": {
          "base_uri": "https://localhost:8080/"
        }
      },
      "outputs": [
        {
          "output_type": "stream",
          "name": "stdout",
          "text": [
            "73.0\n"
          ]
        }
      ],
      "source": [
        "#Now identify the median from this list\n",
        "#Student answer\n",
        "nums = np.sort(highs)\n",
        "mid = len(nums) // 2\n",
        "median =  (nums[mid] + nums[~mid]) / 2\n",
        "print(median)\n",
        "\n",
        "\n"
      ]
    },
    {
      "cell_type": "markdown",
      "id": "b7203213",
      "metadata": {
        "id": "b7203213"
      },
      "source": [
        "### 3.2.2. Calculate the median temperature\n",
        "Calculate the median temperature of entire year using the numpy built-in function [median()](https://numpy.org/doc/stable/reference/generated/numpy.median.html)"
      ]
    },
    {
      "cell_type": "code",
      "execution_count": 22,
      "id": "21ca2f3f",
      "metadata": {
        "id": "21ca2f3f",
        "outputId": "a9ace6c5-626b-4bdc-88b6-70d5cdc8a5b2",
        "colab": {
          "base_uri": "https://localhost:8080/"
        }
      },
      "outputs": [
        {
          "output_type": "stream",
          "name": "stdout",
          "text": [
            "73.0\n"
          ]
        }
      ],
      "source": [
        "#student answer\n",
        "npmedian = np.median(highs)\n",
        "print(npmedian)\n"
      ]
    },
    {
      "cell_type": "markdown",
      "id": "0dad9d5c",
      "metadata": {
        "id": "0dad9d5c"
      },
      "source": [
        "### 3.3.1. Manually identify the mode of the temperature values!\n",
        "With the now sorted list, manually identify the mode of the high temperature values of the entire year."
      ]
    },
    {
      "cell_type": "code",
      "execution_count": 89,
      "id": "e58ca6d8",
      "metadata": {
        "id": "e58ca6d8",
        "outputId": "6c6b9c64-2a32-43cd-d77b-6f6eeb9df75f",
        "colab": {
          "base_uri": "https://localhost:8080/"
        }
      },
      "outputs": [
        {
          "output_type": "stream",
          "name": "stdout",
          "text": [
            "68\n"
          ]
        }
      ],
      "source": [
        "from inspect import modulesbyfile\n",
        "#student answer (submit your answer as a comment in this cell)\n",
        "nums = np.sort(highs)\n",
        "counts = dict()\n",
        "for i in nums:\n",
        "    counts[i] = counts.get(i, 0) + 1\n",
        "mode = max(counts, key=counts.get)\n",
        "print(mode)\n"
      ]
    },
    {
      "cell_type": "markdown",
      "id": "3972a5c0",
      "metadata": {
        "id": "3972a5c0"
      },
      "source": [
        "### 3.3.2. Calculate the mode of the temperature values\n",
        "Calculate the mode of the high temperature values of the entire year using the scipy built-in function in stats()"
      ]
    },
    {
      "cell_type": "code",
      "execution_count": 62,
      "id": "860c7d0a",
      "metadata": {
        "id": "860c7d0a",
        "outputId": "eb917c6b-ff2a-41e2-94c0-3bd1bdb97317",
        "colab": {
          "base_uri": "https://localhost:8080/"
        }
      },
      "outputs": [
        {
          "output_type": "stream",
          "name": "stdout",
          "text": [
            "ModeResult(mode=68, count=2)\n"
          ]
        }
      ],
      "source": [
        "#student answer\n",
        "mode_highs = stats.mode(highs)\n",
        "print(mode_highs)"
      ]
    },
    {
      "cell_type": "code",
      "execution_count": 74,
      "id": "b0bcdbb0",
      "metadata": {
        "id": "b0bcdbb0",
        "outputId": "53bd555a-45a6-426b-d6f6-2c0fbf4d7b66",
        "colab": {
          "base_uri": "https://localhost:8080/"
        }
      },
      "outputs": [
        {
          "output_type": "stream",
          "name": "stdout",
          "text": [
            "ModeResult(mode=68, count=2)\n"
          ]
        }
      ],
      "source": [
        "#student answer\n",
        "mode = stats.mode(highs)\n",
        "print(mode)\n"
      ]
    },
    {
      "cell_type": "markdown",
      "id": "8db22906",
      "metadata": {
        "id": "8db22906"
      },
      "source": [
        "## 4. Repeat for the lows\n",
        "We have calculated the mean, meadian and mode for the highs, now let's do the same for the lows.\n",
        "\n",
        "Using numpy and scipy, calculate the mean median and mode for the lows array."
      ]
    },
    {
      "cell_type": "code",
      "execution_count": 84,
      "id": "373da46c",
      "metadata": {
        "id": "373da46c",
        "outputId": "0fadd2dc-dc41-4823-9537-1119f88f61ec",
        "colab": {
          "base_uri": "https://localhost:8080/"
        }
      },
      "outputs": [
        {
          "output_type": "execute_result",
          "data": {
            "text/plain": [
              "57.0"
            ]
          },
          "metadata": {},
          "execution_count": 84
        }
      ],
      "source": [
        "#student anwser for mean\n",
        "\n",
        "np.mean(lows)\n"
      ]
    },
    {
      "cell_type": "code",
      "execution_count": 81,
      "id": "3af95bcf",
      "metadata": {
        "id": "3af95bcf",
        "outputId": "77bb8bce-49a8-4d7b-c0a2-06ef81c7f0d9",
        "colab": {
          "base_uri": "https://localhost:8080/"
        }
      },
      "outputs": [
        {
          "output_type": "execute_result",
          "data": {
            "text/plain": [
              "57.0"
            ]
          },
          "metadata": {},
          "execution_count": 81
        }
      ],
      "source": [
        "#student answer for median\n",
        "np.median(lows)\n"
      ]
    },
    {
      "cell_type": "code",
      "execution_count": 83,
      "id": "9e82aa65",
      "metadata": {
        "id": "9e82aa65",
        "outputId": "939442fe-3fe3-44ce-f7b9-6ca49572e608",
        "colab": {
          "base_uri": "https://localhost:8080/"
        }
      },
      "outputs": [
        {
          "output_type": "execute_result",
          "data": {
            "text/plain": [
              "ModeResult(mode=49, count=2)"
            ]
          },
          "metadata": {},
          "execution_count": 83
        }
      ],
      "source": [
        "#student answer for mode\n",
        "stats.mode(lows)\n"
      ]
    },
    {
      "cell_type": "markdown",
      "id": "88cdabd2",
      "metadata": {
        "id": "88cdabd2"
      },
      "source": [
        "## 5. Conclusion\n",
        "We have now begun the process of understanding the weather in Los Angeles and what the trends are within our data. We have achieved this knowledge by calculating the mean, meadian and mode."
      ]
    }
  ],
  "metadata": {
    "kernelspec": {
      "display_name": "Python 3 (ipykernel)",
      "language": "python",
      "name": "python3"
    },
    "language_info": {
      "codemirror_mode": {
        "name": "ipython",
        "version": 3
      },
      "file_extension": ".py",
      "mimetype": "text/x-python",
      "name": "python",
      "nbconvert_exporter": "python",
      "pygments_lexer": "ipython3",
      "version": "3.9.7"
    },
    "toc": {
      "base_numbering": 1,
      "nav_menu": {},
      "number_sections": false,
      "sideBar": true,
      "skip_h1_title": false,
      "title_cell": "Table of Contents",
      "title_sidebar": "Contents",
      "toc_cell": false,
      "toc_position": {},
      "toc_section_display": true,
      "toc_window_display": true
    },
    "colab": {
      "provenance": []
    }
  },
  "nbformat": 4,
  "nbformat_minor": 5
}